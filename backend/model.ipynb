{
 "cells": [
  {
   "cell_type": "code",
   "execution_count": 1,
   "id": "initial_id",
   "metadata": {
    "collapsed": true
   },
   "outputs": [],
   "source": [
    "import numpy as np\n",
    "import pandas as pd\n",
    "from sklearn.gaussian_process import GaussianProcessRegressor\n",
    "from sklearn.gaussian_process.kernels import ConstantKernel, RBF\n",
    "from sklearn.model_selection import train_test_split\n",
    "import matplotlib.pyplot as plt\n",
    "from sklearn.metrics import r2_score\n",
    "from sklearn.svm import SVC\n",
    "from sklearn.neighbors import KNeighborsClassifier"
   ]
  },
  {
   "cell_type": "code",
   "execution_count": 2,
   "id": "907bdbc2",
   "metadata": {
    "jupyter": {
     "is_executing": true
    }
   },
   "outputs": [],
   "source": [
    "df = pd.read_excel('./data/signdata.xlsx', header=None)\n",
    "handnum = 6"
   ]
  },
  {
   "cell_type": "code",
   "execution_count": 16,
   "id": "4e662373",
   "metadata": {},
   "outputs": [],
   "source": [
    "data=np.array(df)\n",
    "column=data.shape[1]\n",
    "X = data[46,0:column-1]"
   ]
  },
  {
   "cell_type": "code",
   "execution_count": 17,
   "id": "b76fd468",
   "metadata": {},
   "outputs": [],
   "source": [
    "import joblib\n",
    "\n",
    "model = joblib.load('knn_model.joblib')"
   ]
  },
  {
   "cell_type": "code",
   "execution_count": 18,
   "id": "e3da0e56",
   "metadata": {},
   "outputs": [
    {
     "name": "stdout",
     "output_type": "stream",
     "text": [
      "[2]\n"
     ]
    }
   ],
   "source": [
    "pred = model.predict(X.reshape(1,-1))\n",
    "print(pred)"
   ]
  },
  {
   "cell_type": "code",
   "execution_count": 19,
   "id": "b706f61e",
   "metadata": {},
   "outputs": [
    {
     "data": {
      "text/plain": [
       "899"
      ]
     },
     "execution_count": 19,
     "metadata": {},
     "output_type": "execute_result"
    }
   ],
   "source": [
    "length = len(X)\n",
    "length"
   ]
  },
  {
   "cell_type": "code",
   "execution_count": 12,
   "id": "d96b5740",
   "metadata": {},
   "outputs": [],
   "source": [
    "data=np.array(df)\n",
    "column=data.shape[1]\n",
    "X=data[:,0:column-1]\n",
    "y_result=data[:,column-1]"
   ]
  },
  {
   "cell_type": "code",
   "execution_count": 13,
   "id": "b503b808",
   "metadata": {},
   "outputs": [],
   "source": [
    "X_train, X_test, y_train_result, y_test_result = train_test_split(X, y_result, test_size=1/3, random_state=40, stratify=y_result)"
   ]
  },
  {
   "cell_type": "code",
   "execution_count": 14,
   "id": "26a86ecf",
   "metadata": {},
   "outputs": [],
   "source": [
    "clf = KNeighborsClassifier(n_neighbors=1).fit(X_train, y_train_result)"
   ]
  },
  {
   "cell_type": "code",
   "execution_count": 18,
   "id": "416448ee",
   "metadata": {},
   "outputs": [
    {
     "data": {
      "text/plain": [
       "['knn_model.joblib']"
      ]
     },
     "execution_count": 18,
     "metadata": {},
     "output_type": "execute_result"
    }
   ],
   "source": [
    "import joblib\n",
    "\n",
    "# 保存模型到文件\n",
    "joblib.dump(clf, 'knn_model.joblib')"
   ]
  },
  {
   "cell_type": "code",
   "execution_count": 15,
   "id": "85acf84c",
   "metadata": {},
   "outputs": [],
   "source": [
    "y_test_pred = clf.predict(X_test)\n",
    "y_train_pred = clf.predict(X_train)"
   ]
  },
  {
   "cell_type": "code",
   "execution_count": 16,
   "id": "8101bb3e",
   "metadata": {},
   "outputs": [
    {
     "name": "stdout",
     "output_type": "stream",
     "text": [
      "训练集准确率： 1.0 \n",
      "\n",
      "预测错误数据\n",
      "实际值_预测值:\n",
      "1 _ 4\n",
      "4 _ 3\n",
      "2 _ 3\n",
      "5 _ 3\n",
      "测试集准确率： 0.9333333333333333\n"
     ]
    }
   ],
   "source": [
    "sum = 0\n",
    "for i in range(len(y_train_pred)):\n",
    "    if y_train_pred[i] == y_train_result[i]:\n",
    "        sum = sum + 1\n",
    "print(\"训练集准确率：\", sum / len(y_train_pred), \"\\n\")\n",
    "\n",
    "sum = 0\n",
    "print(\"预测错误数据\")\n",
    "print(\"实际值_预测值:\")\n",
    "for i in range(len(y_test_pred)):\n",
    "    if y_test_pred[i] == y_test_result[i]:\n",
    "        sum = sum + 1\n",
    "    else:\n",
    "        print(y_test_result[i], \"_\", y_test_pred[i])\n",
    "print(\"测试集准确率：\", sum / len(y_test_pred))"
   ]
  }
 ],
 "metadata": {
  "kernelspec": {
   "display_name": "sts",
   "language": "python",
   "name": "python3"
  },
  "language_info": {
   "codemirror_mode": {
    "name": "ipython",
    "version": 3
   },
   "file_extension": ".py",
   "mimetype": "text/x-python",
   "name": "python",
   "nbconvert_exporter": "python",
   "pygments_lexer": "ipython3",
   "version": "3.11.11"
  }
 },
 "nbformat": 4,
 "nbformat_minor": 5
}
